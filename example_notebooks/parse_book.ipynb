{
 "cells": [
  {
   "cell_type": "code",
   "execution_count": 1,
   "metadata": {},
   "outputs": [],
   "source": [
    "%load_ext autoreload\n",
    "%autoreload 2\n",
    "\n",
    "import sys\n",
    "sys.path.append('../')\n",
    "import buskin\n",
    "\n",
    "import logging\n",
    "logging.basicConfig()\n",
    "logging.getLogger().setLevel(logging.INFO)"
   ]
  },
  {
   "cell_type": "code",
   "execution_count": 2,
   "metadata": {},
   "outputs": [
    {
     "name": "stderr",
     "output_type": "stream",
     "text": [
      "INFO:root:Number of chunks : 8\n",
      "INFO:root:1. Sentences and Characters obtained (20.81 secs)\n",
      "INFO:root:Number of Sentences : 2529\n",
      "INFO:root:Number of Characters : 291\n",
      "INFO:root:2. Emotions obtained (7.92 secs)\n",
      "INFO:root:Processing Done (28.738348484039307 secs)\n"
     ]
    }
   ],
   "source": [
    "book_path = 'data/Charles Dickens___A Christmas Carol.txt'\n",
    "book = buskin.parse_book(book_path)"
   ]
  },
  {
   "cell_type": "code",
   "execution_count": 10,
   "metadata": {},
   "outputs": [
    {
     "name": "stdout",
     "output_type": "stream",
     "text": [
      "The most mentioned characters are:\n",
      "scrooge (904 mentions)\n",
      "spirit (119 mentions)\n"
     ]
    }
   ],
   "source": [
    "# Top 2 Characters\n",
    "print(f\"The most mentioned characters are:\")\n",
    "for i in range(2):\n",
    "    print(f\"{book.characters[i].name} ({len(book.characters[i].mentions)} mentions)\")"
   ]
  },
  {
   "cell_type": "code",
   "execution_count": null,
   "metadata": {},
   "outputs": [],
   "source": []
  }
 ],
 "metadata": {
  "kernelspec": {
   "display_name": "Python 3",
   "language": "python",
   "name": "python3"
  },
  "language_info": {
   "codemirror_mode": {
    "name": "ipython",
    "version": 3
   },
   "file_extension": ".py",
   "mimetype": "text/x-python",
   "name": "python",
   "nbconvert_exporter": "python",
   "pygments_lexer": "ipython3",
   "version": "3.8.5"
  }
 },
 "nbformat": 4,
 "nbformat_minor": 4
}
